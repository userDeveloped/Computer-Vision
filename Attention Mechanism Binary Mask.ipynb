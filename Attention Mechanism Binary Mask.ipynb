{
 "cells": [
  {
   "cell_type": "code",
   "execution_count": 1,
   "metadata": {},
   "outputs": [
    {
     "name": "stdout",
     "output_type": "stream",
     "text": [
      "[PhysicalDevice(name='/physical_device:GPU:0', device_type='GPU')]\n"
     ]
    }
   ],
   "source": [
    "import numpy as np\n",
    "import tensorflow as tf\n",
    "from tensorflow.keras import layers, models, utils, datasets\n",
    "from tensorflow.keras.preprocessing.image import ImageDataGenerator\n",
    "import time\n",
    "from tensorflow.keras import regularizers\n",
    "from tensorflow.keras.optimizers.schedules import ExponentialDecay\n",
    "from tensorflow.keras.callbacks import TensorBoard, EarlyStopping\n",
    "import matplotlib.pyplot as plt\n",
    "\n",
    "# Print the list of available GPUs\n",
    "print(tf.config.list_physical_devices('GPU'))\n",
    "\n",
    "NAME = \"CIFAR10-{}\".format(int(time.time()))\n",
    "#tensorboard  = TensorBoard(log_dir='logs/{}'.format(NAME))\n",
    "#early_stopping = EarlyStopping(monitor=\"val_accuracy\", patience=3)"
   ]
  },
  {
   "cell_type": "code",
   "execution_count": 2,
   "metadata": {},
   "outputs": [],
   "source": [
    "# Load the CIFAR10 dataset\n",
    "(x_train, y_train), (x_test, y_test) = datasets.cifar10.load_data()\n",
    "\n",
    "# Normalize the images to have values between 0 and 1\n",
    "x_train = x_train.astype('float32') / 255.0\n",
    "x_test = x_test.astype('float32') / 255.0\n",
    "\n",
    "# Convert labels to categorical (one-hot encoding)\n",
    "y_train = utils.to_categorical(y_train, 10)\n",
    "y_test = utils.to_categorical(y_test, 10)"
   ]
  },
  {
   "cell_type": "code",
   "execution_count": 3,
   "metadata": {},
   "outputs": [],
   "source": [
    "# Define spatial attention block\n",
    "def spatial_attention_block1(input_tensor):\n",
    "    # Compute the average and maximum across the channel dimension\n",
    "    avg_pool = layers.Lambda(lambda x: tf.reduce_mean(x, axis=-1, keepdims=True))(input_tensor)\n",
    "    max_pool = layers.Lambda(lambda x: tf.reduce_max(x, axis=-1, keepdims=True))(input_tensor)\n",
    "    \n",
    "    # Concatenate the average and maximum\n",
    "    concat = layers.Concatenate(axis=-1)([avg_pool, max_pool])\n",
    "    # Compute the spatial attention map\n",
    "    spatial_attention = layers.Conv2D(1, kernel_size=(3, 3), padding='same', activation='sigmoid', use_bias=False, kernel_initializer='he_normal')(concat)\n",
    "    \n",
    "    # Multiply the input by the spatial attention map to get the output\n",
    "    return layers.Multiply()([input_tensor, spatial_attention]), spatial_attention\n",
    "\n",
    "# Define squeeze-and-excitation block\n",
    "def squeeze_excite_block1(input_tensor, ratio=16):\n",
    "    # Compute the number of filters\n",
    "    filters = input_tensor.shape[-1]\n",
    "    # Compute the squeeze operation (global average pooling)\n",
    "    se = layers.GlobalAveragePooling2D()(input_tensor)\n",
    "    se = layers.Reshape((1, 1, filters))(se)\n",
    "    # Perform the excitation operation (two fully-connected layers)\n",
    "    se = layers.Dense(filters // ratio, activation='relu')(se)\n",
    "    se = layers.Dense(filters, activation='sigmoid')(se)\n",
    "    # Multiply the input by the squeeze-and-excitation map\n",
    "    se = layers.Multiply()([input_tensor, se])\n",
    "    return se\n",
    "\n",
    "# Define depthwise separable convolution block with squeeze-and-excitation and spatial attention\n",
    "def depthwise_separable_conv_block(input_tensor, filters, strides=1, l2_reg=0.001):\n",
    "    # Apply depthwise convolution\n",
    "    x = layers.DepthwiseConv2D(kernel_size=(3, 3), strides=strides, padding='same', depthwise_regularizer=regularizers.l2(l2_reg))(input_tensor)\n",
    "    x = layers.BatchNormalization()(x)\n",
    "    x = layers.ReLU()(x)\n",
    "\n",
    "    # Apply pointwise convolution\n",
    "    x = layers.Conv2D(filters, kernel_size=(1, 1), strides=1, padding='same')(x)\n",
    "    x = layers.BatchNormalization()(x)\n",
    "    x = layers.ReLU()(x)\n",
    "\n",
    "    # Apply squeeze-and-excitation\n",
    "    x = squeeze_excite_block1(x)\n",
    "    # Apply spatial attention\n",
    "    x, spatial_attention = spatial_attention_block1(x)\n",
    "    return x, spatial_attention\n",
    "\n",
    "# Function to get attention map from a model\n",
    "def get_attention_map(model, spatial_attention_map, input_image):\n",
    "    attention_model = models.Model(inputs=model.input, outputs=spatial_attention_map)\n",
    "    attention_map = attention_model.predict(np.expand_dims(input_image, axis=0))[0]\n",
    "    return attention_map\n",
    "\n",
    "# Function to generate binary mask from attention map\n",
    "def get_binary_mask(attention_map, threshold):\n",
    "    binary_mask = np.zeros_like(attention_map)\n",
    "    binary_mask[attention_map > threshold] = 1\n",
    "    return binary_mask\n",
    "\n",
    "# Function to apply binary mask to an image\n",
    "def apply_binary_mask(input_image, binary_mask):\n",
    "    resized_binary_mask = tf.image.resize(binary_mask, (input_image.shape[0], input_image.shape[1]), method=tf.image.ResizeMethod.NEAREST_NEIGHBOR)\n",
    "    expanded_binary_mask = tf.tile(resized_binary_mask, [1, 1, 3])\n",
    "    masked_image = input_image * expanded_binary_mask.numpy()\n",
    "    return masked_image\n"
   ]
  },
  {
   "cell_type": "code",
   "execution_count": 4,
   "metadata": {},
   "outputs": [],
   "source": [
    "# Initialize the list for storing spatial attention maps\n",
    "spatial_attention_maps = []\n",
    "\n",
    "# Define the input layer of the network\n",
    "input_tensor = layers.Input(shape=(32, 32, 3))\n",
    "\n",
    "# Apply a convolutional layer to the input\n",
    "x = layers.Conv2D(32, kernel_size=(3, 3), strides=1, padding='same')(input_tensor)\n",
    "x = layers.BatchNormalization()(x)\n",
    "x = layers.ReLU()(x)\n",
    "\n",
    "# Apply depthwise separable convolution blocks with squeeze-and-excitation \n",
    "# and spatial attention for the specified number of filters and strides\n",
    "for block_params in [(64, 1), (64, 2), (128, 1), (128, 2), (256, 1), (256, 2)]:\n",
    "    x, spatial_attention = depthwise_separable_conv_block(x, block_params[0], strides=block_params[1])\n",
    "    # Store the spatial attention map\n",
    "    spatial_attention_maps.append(spatial_attention)\n",
    "\n",
    "# Apply more depthwise separable convolution blocks with squeeze-and-excitation and spatial attention\n",
    "for _ in range(3):\n",
    "    x, spatial_attention = depthwise_separable_conv_block(x, 256)\n",
    "    # Store the spatial attention map\n",
    "    spatial_attention_maps.append(spatial_attention)\n",
    "\n",
    "# Apply global average pooling and flatten the output\n",
    "x = layers.GlobalAveragePooling2D()(x)\n",
    "x = layers.Flatten()(x)\n",
    "\n",
    "# Apply a fully-connected layer with ReLU activation and dropout\n",
    "x = layers.Dense(64, activation='relu')(x)\n",
    "x = layers.Dropout(0.2)(x)\n",
    "\n",
    "# Apply the output layer with softmax activation\n",
    "output_tensor = layers.Dense(10, activation='softmax')(x)\n",
    "\n"
   ]
  },
  {
   "cell_type": "code",
   "execution_count": 5,
   "metadata": {},
   "outputs": [
    {
     "name": "stdout",
     "output_type": "stream",
     "text": [
      "Epoch 1/10\n",
      "1000/1000 [==============================] - 105s 93ms/step - loss: 1.6591 - accuracy: 0.4008 - val_loss: 1.5021 - val_accuracy: 0.4825\n",
      "Epoch 2/10\n",
      "1000/1000 [==============================] - 89s 89ms/step - loss: 1.3241 - accuracy: 0.5406 - val_loss: 1.5905 - val_accuracy: 0.4728\n",
      "Epoch 3/10\n",
      "1000/1000 [==============================] - 90s 90ms/step - loss: 1.1567 - accuracy: 0.6080 - val_loss: 1.4448 - val_accuracy: 0.5447\n",
      "Epoch 4/10\n",
      "1000/1000 [==============================] - 87s 87ms/step - loss: 1.0297 - accuracy: 0.6549 - val_loss: 1.0127 - val_accuracy: 0.6679\n",
      "Epoch 5/10\n",
      "1000/1000 [==============================] - 87s 87ms/step - loss: 0.9414 - accuracy: 0.6900 - val_loss: 1.0254 - val_accuracy: 0.6746\n",
      "Epoch 6/10\n",
      "1000/1000 [==============================] - 87s 86ms/step - loss: 0.8764 - accuracy: 0.7144 - val_loss: 1.2994 - val_accuracy: 0.6074\n",
      "Epoch 7/10\n",
      "1000/1000 [==============================] - 92s 92ms/step - loss: 0.8252 - accuracy: 0.7328 - val_loss: 0.9305 - val_accuracy: 0.6933\n",
      "Epoch 8/10\n",
      "1000/1000 [==============================] - 89s 89ms/step - loss: 0.7781 - accuracy: 0.7503 - val_loss: 0.9390 - val_accuracy: 0.7033\n",
      "Epoch 9/10\n",
      "1000/1000 [==============================] - 87s 87ms/step - loss: 0.7506 - accuracy: 0.7605 - val_loss: 0.9539 - val_accuracy: 0.7009\n",
      "Epoch 10/10\n",
      "1000/1000 [==============================] - 93s 93ms/step - loss: 0.7197 - accuracy: 0.7709 - val_loss: 1.2386 - val_accuracy: 0.6522\n"
     ]
    }
   ],
   "source": [
    "# Define the model\n",
    "model = models.Model(inputs=input_tensor, outputs=output_tensor)\n",
    "\n",
    "# Define the learning rate schedule\n",
    "lr_schedule = ExponentialDecay(initial_learning_rate=0.001, decay_steps=10000, decay_rate=0.9)\n",
    "\n",
    "# Compile the model with the Adam optimizer and categorical cross-entropy loss\n",
    "model.compile(optimizer=tf.keras.optimizers.Adam(learning_rate=lr_schedule), loss='categorical_crossentropy', metrics=['accuracy'])\n",
    "\n",
    "# Define the data augmentation generator\n",
    "datagen = ImageDataGenerator(rotation_range=15, width_shift_range=0.1, height_shift_range=0.1, horizontal_flip=True, zoom_range=0.1)\n",
    "# Fit the generator to the training data\n",
    "datagen.fit(x_train)\n",
    "\n",
    "# Define the batch size and number of epochs\n",
    "batch_size = 50\n",
    "epochs = 10\n",
    "\n",
    "# Train the model using the augmented data and validate on the test set\n",
    "history = model.fit(datagen.flow(x_train, y_train, batch_size=batch_size), steps_per_epoch=x_train.shape[0] // batch_size, epochs=epochs, validation_data=(x_test, y_test))\n"
   ]
  },
  {
   "cell_type": "code",
   "execution_count": 15,
   "metadata": {},
   "outputs": [
    {
     "name": "stdout",
     "output_type": "stream",
     "text": [
      "here (32, 32, 3)\n"
     ]
    },
    {
     "data": {
      "image/png": "[encoded data removed]",
      "text/plain": [
       "<Figure size 1000x500 with 3 Axes>"
      ]
     },
     "metadata": {},
     "output_type": "display_data"
    }
   ],
   "source": [
    "# Define a threshold for the binary mask\n",
    "threshold = 0.6\n",
    "\n",
    "# Choose an input image from your test set\n",
    "input_image = x_test[1]\n",
    "\n",
    "# Get the attention map for the last spatial_attention_map\n",
    "attention_map = get_attention_map(model, spatial_attention_maps[-1], input_image)\n",
    "\n",
    "# Get the binary mask for the attention map\n",
    "binary_mask = get_binary_mask(attention_map, threshold)\n",
    "\n",
    "# Apply the binary mask to the input image\n",
    "new_img = apply_binary_mask(input_image, binary_mask)\n",
    "print(\"here\" , new_img.shape)\n",
    "\n",
    "# Plot the new image, input image, and binary mask\n",
    "fig = plt.figure(figsize=(10, 5))\n",
    "\n",
    "ax1 = fig.add_subplot(1, 3, 1)\n",
    "ax1.imshow(new_img, cmap='gray')\n",
    "ax1.set_title('new Image')\n",
    "\n",
    "ax2 = fig.add_subplot(1, 3, 2)\n",
    "ax2.imshow(input_image, cmap='gray')\n",
    "ax2.set_title('Input Image')\n",
    "\n",
    "ax3 = fig.add_subplot(1, 3, 3)\n",
    "ax3.imshow(binary_mask, cmap='gray')\n",
    "ax3.set_title('Binary Mask')\n",
    "\n",
    "plt.show()"
   ]
  },
  {
   "cell_type": "code",
   "execution_count": 7,
   "metadata": {},
   "outputs": [
    {
     "name": "stdout",
     "output_type": "stream",
     "text": [
      "(4, 4, 1)\n",
      "(4, 4, 1)\n",
      "(32, 32, 3)\n"
     ]
    }
   ],
   "source": [
    "# Print the shapes of binary_mask, attention_map, and input_image\n",
    "print(binary_mask.shape)\n",
    "print(attention_map.shape)\n",
    "print(input_image.shape)"
   ]
  },
  {
   "cell_type": "code",
   "execution_count": 8,
   "metadata": {},
   "outputs": [
    {
     "name": "stdout",
     "output_type": "stream",
     "text": [
      "313/313 [==============================] - 9s 28ms/step - loss: 1.2386 - accuracy: 0.6522\n",
      "Test loss: 1.2385579347610474\n",
      "Test accuracy: 0.6521999835968018\n",
      "313/313 [==============================] - 10s 30ms/step - loss: 1.2386 - accuracy: 0.6522\n",
      "Test loss: 1.2385579347610474\n",
      "Test accuracy: 0.6521999835968018\n",
      "\n",
      "\n",
      "Final epoch training accuracy: 0.7709\n",
      "Final epoch training loss: 0.7197\n",
      "Final epoch validation accuracy: 0.6522\n",
      "Final epoch validation loss: 1.2386\n"
     ]
    }
   ],
   "source": [
    "# Evaluate the model on the test set and print the loss and accuracy\n",
    "loss, accuracy = model.evaluate(x_test, y_test)\n",
    "print(\"Test loss:\", loss)\n",
    "print(\"Test accuracy:\", accuracy)\n",
    "\n",
    "# Evaluate the model on the test set again and print the loss and accuracy\n",
    "loss, accuracy = model.evaluate(x_test, y_test)\n",
    "print(\"Test loss:\", loss)\n",
    "print(\"Test accuracy:\", accuracy)\n",
    "\n",
    "# Get the accuracy and loss for the final epoch of training and validation\n",
    "last_epoch = len(history.history['accuracy']) - 1\n",
    "train_accuracy = history.history['accuracy'][last_epoch]\n",
    "train_loss = history.history['loss'][last_epoch]\n",
    "val_accuracy = history.history['val_accuracy'][last_epoch]\n",
    "val_loss = history.history['val_loss'][last_epoch]\n",
    "\n",
    "# Print the final epoch training and validation accuracy and loss\n",
    "print('\\n')\n",
    "print(f\"Final epoch training accuracy: {train_accuracy:.4f}\")\n",
    "print(f\"Final epoch training loss: {train_loss:.4f}\")\n",
    "print(f\"Final epoch validation accuracy: {val_accuracy:.4f}\")\n",
    "print(f\"Final epoch validation loss: {val_loss:.4f}\")"
   ]
  }
 ],
 "metadata": {
  "kernelspec": {
   "display_name": "base",
   "language": "python",
   "name": "python3"
  },
  "language_info": {
   "codemirror_mode": {
    "name": "ipython",
    "version": 3
   },
   "file_extension": ".py",
   "mimetype": "text/x-python",
   "name": "python",
   "nbconvert_exporter": "python",
   "pygments_lexer": "ipython3",
   "version": "3.9.16"
  },
  "orig_nbformat": 4
 },
 "nbformat": 4,
 "nbformat_minor": 2
}
